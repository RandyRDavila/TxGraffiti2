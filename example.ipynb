{
 "cells": [
  {
   "cell_type": "code",
   "execution_count": 1,
   "id": "1cccde69",
   "metadata": {},
   "outputs": [
    {
     "name": "stdout",
     "output_type": "stream",
     "text": [
      "Conjecture 1. ∀ G: (True) → (independence_number <= ((-1 * matching_number) + order))\n",
      "\n",
      "Conjecture 2. ∀ G: (True) → (independence_number <= ((-1 * min_degree) + order))\n",
      "\n",
      "Conjecture 3. ∀ G: (True) → (independence_number >= (((-2 * matching_number) + (4/3 + order)) + (-1/3 * min_degree)))\n",
      "\n",
      "Conjecture 4. ∀ G: (True) → (independence_number >= ((((35/33 * order) + -2/33) + (-16/11 * matching_number)) + (-1/3 * min_degree)))\n",
      "\n",
      "Conjecture 5. ∀ G: (True) → (independence_number >= ((((2/3 * order) + 1/3) + (-2/3 * matching_number)) + (-1/3 * min_degree)))\n",
      "\n",
      "Conjecture 6. ∀ G: (True) → (independence_number >= ((((107/99 * order) + -41/99) + (-14/11 * matching_number)) + (-4/9 * min_degree)))\n",
      "\n",
      "Conjecture 7. ∀ G: (True) → (independence_number >= ((((8/9 * order) + -2/9) + (-8/9 * matching_number)) + (-4/9 * min_degree)))\n",
      "\n",
      "Conjecture 8. ∀ G: (True) → (independence_number >= ((-1/2 * min_degree) + 5/2))\n",
      "\n",
      "Conjecture 9. ∀ G: (True) → (independence_number >= ((((1/3 * order) + 2) + (-2/3 * matching_number)) + (-1/3 * min_degree)))\n",
      "\n",
      "Conjecture 10. ∀ G: (True) → (independence_number >= ((((19/17 * order) + -18/17) + (-24/17 * matching_number)) + (-3/17 * min_degree)))\n",
      "\n"
     ]
    }
   ],
   "source": [
    "from txgraffiti.playground    import ConjecturePlayground\n",
    "from txgraffiti.generators    import convex_hull, linear_programming, ratios\n",
    "from txgraffiti.heuristics    import morgan, dalmatian\n",
    "from txgraffiti.processing    import remove_duplicates, sort_by_touch_count\n",
    "from txgraffiti.example_data  import graph_data   # bundled toy dataset\n",
    "\n",
    "\n",
    "# 2) Instantiate your playground\n",
    "#    object_symbol will be used when you pretty-print \"∀ G.connected: …\"\n",
    "ai = ConjecturePlayground(\n",
    "    graph_data,\n",
    "    object_symbol='G',\n",
    "    # base = 'connected',\n",
    ")\n",
    "\n",
    "graph_data.drop(columns=['edge_domination_number'], inplace=True)\n",
    "\n",
    "# 3) (Optional) define any custom predicates\n",
    "regular = (ai.max_degree == ai.min_degree)\n",
    "cubic   = regular & (ai.max_degree == 3)\n",
    "\n",
    "# 4) Run discovery\n",
    "ai.discover(\n",
    "    methods         = [convex_hull, linear_programming, ratios],\n",
    "    features        = ['order', 'matching_number', 'min_degree'],\n",
    "    target          = 'independence_number',\n",
    "    # hypothesis      = [ai.bipartite, regular],\n",
    "    heuristics      = [morgan, dalmatian],\n",
    "    post_processors = [remove_duplicates, sort_by_touch_count],\n",
    ")\n",
    "\n",
    "# 5) Print your top conjectures\n",
    "for idx, conj in enumerate(ai.conjectures[:10], start=1):\n",
    "    # wrap in ∀-notation for readability\n",
    "    formula = ai.forall(conj)\n",
    "    print(f\"Conjecture {idx}. {formula}\\n\")"
   ]
  },
  {
   "cell_type": "code",
   "execution_count": 5,
   "id": "9b1b31b1",
   "metadata": {},
   "outputs": [
    {
     "name": "stdout",
     "output_type": "stream",
     "text": [
      "Conjecture 1. ∀ n.PositiveInteger: (True) → (collatz_steps >= prime_factor_count)\n",
      "\n",
      "Conjecture 2. ∀ n.PositiveInteger: (True) → (collatz_steps >= (((77/1329 * sum_divisors) + -77/1329) + (-1465/1329 * prime_factor_count)))\n",
      "\n",
      "Conjecture 3. ∀ n.PositiveInteger: (True) → (collatz_steps >= (((40/363 * sum_divisors) + -8443/363) + (112/363 * prime_factor_count)))\n",
      "\n",
      "Conjecture 4. ∀ n.PositiveInteger: (True) → (collatz_steps <= (((11/216 * sum_divisors) + 3191/27) + (-83/27 * prime_factor_count)))\n",
      "\n",
      "Conjecture 5. ∀ n.PositiveInteger: (True) → (collatz_steps <= (((13/214 * sum_divisors) + 12175/107) + (-186/107 * prime_factor_count)))\n",
      "\n",
      "Conjecture 6. ∀ n.PositiveInteger: (True) → (collatz_steps <= (((36/35 * sum_divisors) + 9252/35) + (-2269/35 * prime_factor_count)))\n",
      "\n",
      "Conjecture 7. ∀ n.PositiveInteger: (True) → (collatz_steps <= (((12/17 * sum_divisors) + 4236/17) + (-943/17 * prime_factor_count)))\n",
      "\n",
      "Conjecture 8. ∀ n.PositiveInteger: (True) → (collatz_steps <= (((36/83 * sum_divisors) + 23076/83) + (-4525/83 * prime_factor_count)))\n",
      "\n",
      "Conjecture 9. ∀ n.PositiveInteger: (True) → (collatz_steps <= (((-10/3 * sum_divisors) + 2134/3) + (655/6 * prime_factor_count)))\n",
      "\n",
      "Conjecture 10. ∀ n.PositiveInteger: (True) → (collatz_steps <= (((36/115 * sum_divisors) + 6228/23) + (-1129/23 * prime_factor_count)))\n",
      "\n"
     ]
    }
   ],
   "source": [
    "from txgraffiti.playground    import ConjecturePlayground\n",
    "from txgraffiti.generators    import convex_hull, linear_programming, ratios\n",
    "from txgraffiti.heuristics    import morgan, dalmatian\n",
    "from txgraffiti.processing    import remove_duplicates, sort_by_touch_count\n",
    "from txgraffiti.example_data  import integer_data   # bundled toy dataset\n",
    "from txgraffiti import TRUE\n",
    "\n",
    "# 2) Instantiate your playground\n",
    "#    object_symbol will be used when you pretty-print \"∀ G.connected: …\"\n",
    "ai = ConjecturePlayground(\n",
    "    integer_data,\n",
    "    object_symbol='n.PositiveInteger'\n",
    ")\n",
    "\n",
    "ai.discover(\n",
    "    methods         = [convex_hull, linear_programming, ratios],\n",
    "    features        = ['sum_divisors', 'prime_factor_count'],\n",
    "    target          = 'collatz_steps',\n",
    "    heuristics      = [morgan, dalmatian],\n",
    "    post_processors = [remove_duplicates, sort_by_touch_count],\n",
    ")\n",
    "\n",
    "# 5) Print your top conjectures\n",
    "for idx, conj in enumerate(ai.conjectures[:10], start=1):\n",
    "    # wrap in ∀-notation for readability\n",
    "    formula = ai.forall(conj)\n",
    "    print(f\"Conjecture {idx}. {formula}\\n\")"
   ]
  },
  {
   "cell_type": "code",
   "execution_count": null,
   "id": "b6c1b9e6",
   "metadata": {},
   "outputs": [],
   "source": []
  }
 ],
 "metadata": {
  "kernelspec": {
   "display_name": ".venv",
   "language": "python",
   "name": "python3"
  },
  "language_info": {
   "codemirror_mode": {
    "name": "ipython",
    "version": 3
   },
   "file_extension": ".py",
   "mimetype": "text/x-python",
   "name": "python",
   "nbconvert_exporter": "python",
   "pygments_lexer": "ipython3",
   "version": "3.11.8"
  }
 },
 "nbformat": 4,
 "nbformat_minor": 5
}
