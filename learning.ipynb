{
 "cells": [
  {
   "cell_type": "markdown",
   "id": "ac207587",
   "metadata": {},
   "source": []
  },
  {
   "cell_type": "code",
   "execution_count": null,
   "id": "7ec70c72",
   "metadata": {},
   "outputs": [
    {
     "name": "stdout",
     "output_type": "stream",
     "text": [
      "Print const_2 variable and call it on a Pandas DataFrame\n",
      "const_2 = <Property 2> \n",
      "\n",
      "0    2\n",
      "1    2\n",
      "2    2\n",
      "dtype: int64 \n",
      "\n",
      "Print const_3 variable and call it on a Pandas DataFrame\n",
      "const_3 = <Property 3> \n",
      "\n",
      "0    3\n",
      "1    3\n",
      "2    3\n",
      "dtype: int64 \n",
      "\n",
      "Print (const_2 + const_3) variable and call it on a Pandas DataFrame\n",
      "const_2 + const_3 = <Property (2 + 3)> \n",
      "\n",
      "0    5\n",
      "1    5\n",
      "2    5\n",
      "dtype: int64\n",
      "Print (2*const_2 - const_3) variable and call it on a Pandas DataFrame\n",
      "2*const_2 - const_3= <Property ((2 * 2) - 3)> \n",
      "\n",
      "0    1\n",
      "1    1\n",
      "2    1\n",
      "dtype: int64\n"
     ]
    }
   ],
   "source": [
    "import pandas as pd\n",
    "from txgraffiti import Constant\n",
    "\n",
    "df = pd.DataFrame({\n",
    "        'alpha': [1, 2, 3],\n",
    "        'beta': [3, 1, 1],\n",
    "        'connected': [True, True, True],\n",
    "        'K_n': [True, False, False],\n",
    "        'tree': [False, False, True],\n",
    "    })\n",
    "\n",
    "# Declare constant variables\n",
    "const_2 = Constant(2)\n",
    "const_3 = Constant(3)\n",
    "\n",
    "print(\"Print const_2 variable and call it on a Pandas DataFrame\")\n",
    "print(f\"{const_2 = } \\n\")\n",
    "print(f\"{const_2(df)} \\n\")\n",
    "\n",
    "\n",
    "print(\"Print const_3 variable and call it on a Pandas DataFrame\")\n",
    "print(f\"{const_3 = } \\n\")\n",
    "print(f\"{const_3(df)} \\n\")\n",
    "\n",
    "print(\"Print (const_2 + const_3) variable and call it on a Pandas DataFrame\")\n",
    "print(f\"{const_2 + const_3 = } \\n\")\n",
    "print(f\"{(const_2 + const_3)(df)}\")\n",
    "\n",
    "print(\"Print (2*const_2 - const_3) variable and call it on a Pandas DataFrame\")\n",
    "print(f\"{2*const_2 - const_3= } \\n\")\n",
    "print(f\"{(2*const_2 - const_3)(df)}\")"
   ]
  },
  {
   "cell_type": "code",
   "execution_count": null,
   "id": "dd17395c",
   "metadata": {},
   "outputs": [
    {
     "name": "stdout",
     "output_type": "stream",
     "text": [
      "alpha = <Property alpha>\n",
      "0    1\n",
      "1    2\n",
      "2    3\n",
      "Name: alpha, dtype: int64 \n",
      "\n",
      "2*alpha = <Property (2 * alpha)>\n",
      "0    2\n",
      "1    4\n",
      "2    6\n",
      "Name: alpha, dtype: int64 \n",
      "\n"
     ]
    }
   ],
   "source": [
    "import pandas as pd\n",
    "from txgraffiti import Property\n",
    "\n",
    "df = pd.DataFrame({\n",
    "        'alpha': [1, 2, 3],\n",
    "        'beta': [3, 1, 1],\n",
    "        'connected': [True, True, True],\n",
    "        'tree': [False, False, True],\n",
    "    })\n",
    "\n",
    "# Declare alpha property on the Pandas DataFrame\n",
    "alpha = Property('alpha', lambda df: df['alpha'])\n",
    "\n",
    "# Print the alpha property and call it on the Pandas DataFrame\n",
    "print(f\"{alpha = }\")\n",
    "print(f\"{alpha(df)} \\n\")\n",
    "\n",
    "# print the 2*alpha property and call it on the Pandas DataFrame\n",
    "print(f\"{2*alpha = }\")\n",
    "print(f\"{2*alpha(df)} \\n\")"
   ]
  },
  {
   "cell_type": "code",
   "execution_count": null,
   "id": "e63d35a9",
   "metadata": {},
   "outputs": [
    {
     "name": "stdout",
     "output_type": "stream",
     "text": [
      "tree = <Predicate tree> \n",
      "\n",
      "0    False\n",
      "1    False\n",
      "2     True\n",
      "Name: tree, dtype: bool \n",
      "\n"
     ]
    }
   ],
   "source": [
    "import pandas as pd\n",
    "from txgraffiti import Predicate\n",
    "\n",
    "df = pd.DataFrame({\n",
    "        'alpha': [1, 2, 3],\n",
    "        'beta': [3, 1, 1],\n",
    "        'connected': [True, True, True],\n",
    "        'tree': [False, False, True],\n",
    "    })\n",
    "\n",
    "# Define the tree Predicate object\n",
    "tree = Predicate('tree', lambda df: df['tree'])\n",
    "\n",
    "# print the Predicate object and call it on a Pandas DataFrame\n",
    "print(f\"{tree = } \\n\")\n",
    "print(tree(df), \"\\n\")\n"
   ]
  },
  {
   "cell_type": "code",
   "execution_count": null,
   "id": "43cf1b91",
   "metadata": {},
   "outputs": [
    {
     "name": "stdout",
     "output_type": "stream",
     "text": [
      "ineq = <Predicate alpha <= ((2 * beta) + 3)> \n",
      "\n",
      "0    True\n",
      "1    True\n",
      "2    True\n",
      "dtype: bool \n",
      "\n",
      "0    8\n",
      "1    3\n",
      "2    2\n",
      "dtype: int64 \n",
      "\n"
     ]
    }
   ],
   "source": [
    "import pandas as pd\n",
    "from txgraffiti import Property\n",
    "\n",
    "df = pd.DataFrame({\n",
    "        'alpha': [1, 2, 3],\n",
    "        'beta': [3, 1, 1],\n",
    "        'connected': [True, True, True],\n",
    "        'tree': [False, False, True],\n",
    "    })\n",
    "\n",
    "alpha = Property('alpha', lambda df: df['alpha'])\n",
    "beta = Property('beta', lambda df: df['beta'])\n",
    "\n",
    "# build an Inequality for y ≤ 2·x + 3\n",
    "ineq = alpha <= (2 * beta + 3)\n",
    "\n",
    "# print the inequality object, call it on a Pandas DataFrame, and compute its slack Pandas Series\n",
    "print(f\"{ineq = } \\n\")\n",
    "print(ineq(df), \"\\n\")\n",
    "print(ineq.slack(df), \"\\n\")\n"
   ]
  },
  {
   "cell_type": "code",
   "execution_count": 11,
   "id": "3ebc827f",
   "metadata": {},
   "outputs": [
    {
     "name": "stdout",
     "output_type": "stream",
     "text": [
      "conj = <Conj (connected) → (alpha <= ((2 * beta) + 3))> \n",
      "\n",
      "0    True\n",
      "1    True\n",
      "2    True\n",
      "dtype: bool \n",
      "\n",
      "conj.is_true(df) = True\n"
     ]
    }
   ],
   "source": [
    "import pandas as pd\n",
    "from txgraffiti import Property, Predicate, Conjecture\n",
    "\n",
    "df = pd.DataFrame({\n",
    "        'alpha': [1, 2, 3],\n",
    "        'beta': [3, 1, 1],\n",
    "        'connected': [True, True, True],\n",
    "        'tree': [False, False, True],\n",
    "    })\n",
    "\n",
    "\n",
    "alpha = Property('alpha', lambda df: df['alpha'])\n",
    "beta = Property('beta', lambda df: df['beta'])\n",
    "\n",
    "# builds an Inequality for y ≤ 2·x + 3\n",
    "hypothesis = Predicate('connected', lambda df: df['connected'])\n",
    "conclusion = alpha <= (2 * beta  + 3)\n",
    "\n",
    "conj = Conjecture(hypothesis, conclusion)\n",
    "print(f\"{conj = } \\n\")\n",
    "print(conj(df), \"\\n\")\n",
    "print(f\"{conj.is_true(df) = }\")"
   ]
  },
  {
   "cell_type": "markdown",
   "id": "ae5c9168",
   "metadata": {},
   "source": []
  },
  {
   "cell_type": "code",
   "execution_count": 12,
   "id": "25a8aee4",
   "metadata": {},
   "outputs": [
    {
     "name": "stdout",
     "output_type": "stream",
     "text": [
      "conj = <Conj (connected) → (alpha <= ((2 * beta) + 3))> \n",
      "\n",
      "0    True\n",
      "1    True\n",
      "2    True\n",
      "dtype: bool \n",
      "\n",
      "conj.is_true(df) = True\n"
     ]
    }
   ],
   "source": [
    "import pandas as pd\n",
    "from txgraffiti import Property, Predicate\n",
    "\n",
    "df = pd.DataFrame({\n",
    "        'alpha': [1, 2, 3],\n",
    "        'beta': [3, 1, 1],\n",
    "        'connected': [True, True, True],\n",
    "        'tree': [False, False, True],\n",
    "    })\n",
    "\n",
    "\n",
    "alpha = Property('alpha', lambda df: df['alpha'])\n",
    "beta = Property('beta', lambda df: df['beta'])\n",
    "\n",
    "# builds an Inequality for y ≤ 2·x + 3\n",
    "hypothesis = Predicate('connected', lambda df: df['connected'])\n",
    "conclusion = alpha <= (2 * beta  + 3)\n",
    "\n",
    "conj = hypothesis.implies(conclusion, as_conjecture=True)\n",
    "print(f\"{conj = } \\n\")\n",
    "print(conj(df), \"\\n\")\n",
    "print(f\"{conj.is_true(df) = }\")"
   ]
  },
  {
   "cell_type": "code",
   "execution_count": 13,
   "id": "5ee137f1",
   "metadata": {},
   "outputs": [
    {
     "name": "stdout",
     "output_type": "stream",
     "text": [
      "conj = <Conj (connected) → (alpha <= ((2 * beta) + 3))> \n",
      "\n",
      "0    True\n",
      "1    True\n",
      "2    True\n",
      "dtype: bool \n",
      "\n",
      "conj.is_true(df) = True\n"
     ]
    }
   ],
   "source": [
    "import pandas as pd\n",
    "from txgraffiti import Property, Predicate\n",
    "\n",
    "df = pd.DataFrame({\n",
    "        'alpha': [1, 2, 3],\n",
    "        'beta': [3, 1, 1],\n",
    "        'connected': [True, True, True],\n",
    "        'tree': [False, False, True],\n",
    "    })\n",
    "\n",
    "\n",
    "alpha = Property('alpha', lambda df: df['alpha'])\n",
    "beta = Property('beta', lambda df: df['beta'])\n",
    "\n",
    "# builds an Inequality for y ≤ 2·x + 3\n",
    "hypothesis = Predicate('connected', lambda df: df['connected'])\n",
    "conclusion = alpha <= (2 * beta  + 3)\n",
    "\n",
    "conj = hypothesis >> conclusion\n",
    "print(f\"{conj = } \\n\")\n",
    "print(conj(df), \"\\n\")\n",
    "print(f\"{conj.is_true(df) = }\")"
   ]
  },
  {
   "cell_type": "code",
   "execution_count": null,
   "id": "de1b8785",
   "metadata": {},
   "outputs": [
    {
     "data": {
      "text/plain": [
       "[<Conj (connected) → (alpha >= (1/3 * beta))>,\n",
       " <Conj (connected) → (alpha <= (3 * beta))>]"
      ]
     },
     "execution_count": 15,
     "metadata": {},
     "output_type": "execute_result"
    }
   ],
   "source": [
    "import pandas as pd\n",
    "from txgraffiti import Property, Predicate\n",
    "from txgraffiti import ratios\n",
    "\n",
    "df = pd.DataFrame({\n",
    "        'alpha': [1, 2, 3],\n",
    "        'beta': [3, 1, 1],\n",
    "        'connected': [True, True, True],\n",
    "        'tree': [False, False, True],\n",
    "    })\n",
    "\n",
    "target = Property('alpha', lambda df: df['alpha'])\n",
    "features = [\n",
    "    Property('beta', lambda df: df['beta']),\n",
    "]\n",
    "hypothesis = Predicate('connected', lambda df: df['connected'])\n",
    "list(ratios(df, features=features, target=target, hypothesis=hypothesis))"
   ]
  },
  {
   "cell_type": "code",
   "execution_count": null,
   "id": "5bf37e9b",
   "metadata": {},
   "outputs": [
    {
     "data": {
      "text/plain": [
       "[<Conj (connected) → (alpha >= ((-1/2 * beta) + 5/2))>,\n",
       " <Conj (connected) → (alpha <= ((-1 * beta) + 4))>]"
      ]
     },
     "execution_count": 16,
     "metadata": {},
     "output_type": "execute_result"
    }
   ],
   "source": [
    "import pandas as pd\n",
    "from txgraffiti import Property, Predicate\n",
    "from txgraffiti import convex_hull\n",
    "\n",
    "df = pd.DataFrame({\n",
    "        'alpha': [1, 2, 3],\n",
    "        'beta': [3, 1, 1],\n",
    "        'connected': [True, True, True],\n",
    "        'tree': [False, False, True],\n",
    "    })\n",
    "\n",
    "target = Property('alpha', lambda df: df['alpha'])\n",
    "features = [\n",
    "    Property('beta', lambda df: df['beta']),\n",
    "]\n",
    "hypothesis = Predicate('connected', lambda df: df['connected'])\n",
    "list(convex_hull(df, features=features, target=target, hypothesis=hypothesis))"
   ]
  },
  {
   "cell_type": "code",
   "execution_count": null,
   "id": "768be1a5",
   "metadata": {},
   "outputs": [
    {
     "data": {
      "text/plain": [
       "[<Conj (connected) → (alpha <= ((-1 * beta) + 4))>,\n",
       " <Conj (connected) → (alpha >= ((-1/2 * beta) + 5/2))>]"
      ]
     },
     "execution_count": 17,
     "metadata": {},
     "output_type": "execute_result"
    }
   ],
   "source": [
    "import pandas as pd\n",
    "from txgraffiti import Property, Predicate\n",
    "from txgraffiti.generators import linear_programming\n",
    "\n",
    "df = pd.DataFrame({\n",
    "        'alpha': [1, 2, 3],\n",
    "        'beta': [3, 1, 1],\n",
    "        'connected': [True, True, True],\n",
    "        'tree': [False, False, True],\n",
    "    })\n",
    "\n",
    "target = Property('alpha', lambda df: df['alpha'])\n",
    "features = [\n",
    "    Property('beta', lambda df: df['beta']),\n",
    "]\n",
    "hypothesis = Predicate('connected', lambda df: df['connected'])\n",
    "list(linear_programming(df, features=features, target=target, hypothesis=hypothesis))"
   ]
  },
  {
   "cell_type": "code",
   "execution_count": null,
   "id": "53844229",
   "metadata": {},
   "outputs": [
    {
     "name": "stdout",
     "output_type": "stream",
     "text": [
      "morgan(conj1, [conj2], df) = True \n",
      " \n",
      "morgan(conj2, [conj1], df) = False \n",
      " \n"
     ]
    }
   ],
   "source": [
    "import pandas as pd\n",
    "from txgraffiti import Property, Predicate\n",
    "from txgraffiti.heuristics import morgan\n",
    "\n",
    "df = pd.DataFrame({\n",
    "        'alpha': [1, 2, 3],\n",
    "        'beta': [1, 1, 2],\n",
    "        'connected': [True, True, True],\n",
    "        'tree': [False, True, True],\n",
    "    })\n",
    "\n",
    "\n",
    "alpha = Property('alpha', lambda df: df['alpha'])\n",
    "beta = Property('beta', lambda df: df['beta'])\n",
    "ineq = alpha <= beta + 1\n",
    "\n",
    "hyp1 = Predicate('connected', lambda df: df['connected'])\n",
    "hyp2 = Predicate('tree', lambda df: df['tree'])\n",
    "\n",
    "conj1 = hyp1 >> ineq\n",
    "conj2 = hyp2 >> ineq\n",
    "\n",
    "print(f\"{morgan(conj1, [conj2], df) = } \\n \")\n",
    "print(f\"{morgan(conj2, [conj1], df) = } \\n \")"
   ]
  },
  {
   "cell_type": "code",
   "execution_count": null,
   "id": "90cc039a",
   "metadata": {},
   "outputs": [
    {
     "name": "stdout",
     "output_type": "stream",
     "text": [
      "dalmatian(conj1, [conj2], df) = True \n",
      " \n",
      "dalmatian(conj2, [conj1], df) = False \n",
      " \n"
     ]
    }
   ],
   "source": [
    "import pandas as pd\n",
    "from txgraffiti import Property, Predicate\n",
    "from txgraffiti import dalmatian\n",
    "\n",
    "df = pd.DataFrame({\n",
    "        'alpha': [1, 2, 3],\n",
    "        'beta': [1, 1, 2],\n",
    "        'connected': [True, True, True],\n",
    "        'tree': [False, True, True],\n",
    "    })\n",
    "\n",
    "\n",
    "alpha = Property('alpha', lambda df: df['alpha'])\n",
    "beta = Property('beta', lambda df: df['beta'])\n",
    "\n",
    "hyp = Predicate('connected', lambda df: df['connected'])\n",
    "\n",
    "ineq1 = alpha <= beta + 1\n",
    "ineq2 = alpha <= beta + 2\n",
    "\n",
    "conj1 = hyp >> ineq1\n",
    "conj2 = hyp >> ineq2\n",
    "\n",
    "print(f\"{dalmatian(conj1, [conj2], df) = } \\n \")\n",
    "print(f\"{dalmatian(conj2, [conj1], df) = } \\n \")"
   ]
  },
  {
   "cell_type": "code",
   "execution_count": 23,
   "id": "27811c63",
   "metadata": {},
   "outputs": [
    {
     "data": {
      "text/plain": [
       "<Property (2 + 2)>"
      ]
     },
     "execution_count": 23,
     "metadata": {},
     "output_type": "execute_result"
    }
   ],
   "source": [
    "Constant(2) + 2"
   ]
  },
  {
   "cell_type": "code",
   "execution_count": null,
   "id": "164a32f2",
   "metadata": {},
   "outputs": [],
   "source": []
  }
 ],
 "metadata": {
  "kernelspec": {
   "display_name": ".venv",
   "language": "python",
   "name": "python3"
  },
  "language_info": {
   "codemirror_mode": {
    "name": "ipython",
    "version": 3
   },
   "file_extension": ".py",
   "mimetype": "text/x-python",
   "name": "python",
   "nbconvert_exporter": "python",
   "pygments_lexer": "ipython3",
   "version": "3.13.2"
  }
 },
 "nbformat": 4,
 "nbformat_minor": 5
}
